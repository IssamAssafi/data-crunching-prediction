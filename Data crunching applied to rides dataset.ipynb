{
 "cells": [
  {
   "cell_type": "markdown",
   "metadata": {},
   "source": [
    "#### Importing Libraries"
   ]
  },
  {
   "cell_type": "code",
   "execution_count": 376,
   "metadata": {},
   "outputs": [],
   "source": [
    "import pandas as pd\n",
    "import numpy as np\n",
    "from IPython.display import display\n",
    "import matplotlib.pyplot as plt\n",
    "import seaborn as sns"
   ]
  },
  {
   "cell_type": "markdown",
   "metadata": {},
   "source": [
    "#### Data loading"
   ]
  },
  {
   "cell_type": "code",
   "execution_count": 338,
   "metadata": {},
   "outputs": [],
   "source": [
    "DIR = \"./data\"\n",
    "cities=pd.read_csv(f'{DIR}/cities.csv')\n",
    "providers=pd.read_csv(f'{DIR}/providers.csv')\n",
    "stations=pd.read_csv(f'{DIR}/stations.csv')\n",
    "ticket_data=pd.read_csv(f'{DIR}/ticket_data.csv')"
   ]
  },
  {
   "cell_type": "markdown",
   "metadata": {},
   "source": [
    "#### Exploring the dataset"
   ]
  },
  {
   "cell_type": "code",
   "execution_count": 339,
   "metadata": {},
   "outputs": [
    {
     "data": {
      "text/html": [
       "<div>\n",
       "<style scoped>\n",
       "    .dataframe tbody tr th:only-of-type {\n",
       "        vertical-align: middle;\n",
       "    }\n",
       "\n",
       "    .dataframe tbody tr th {\n",
       "        vertical-align: top;\n",
       "    }\n",
       "\n",
       "    .dataframe thead th {\n",
       "        text-align: right;\n",
       "    }\n",
       "</style>\n",
       "<table border=\"1\" class=\"dataframe\">\n",
       "  <thead>\n",
       "    <tr style=\"text-align: right;\">\n",
       "      <th></th>\n",
       "      <th>id</th>\n",
       "      <th>local_name</th>\n",
       "      <th>unique_name</th>\n",
       "      <th>latitude</th>\n",
       "      <th>longitude</th>\n",
       "      <th>population</th>\n",
       "    </tr>\n",
       "  </thead>\n",
       "  <tbody>\n",
       "    <tr>\n",
       "      <th>0</th>\n",
       "      <td>5159</td>\n",
       "      <td>Padua, Veneto, Italia</td>\n",
       "      <td>padua</td>\n",
       "      <td>45.406435</td>\n",
       "      <td>11.876761</td>\n",
       "      <td>209678.0</td>\n",
       "    </tr>\n",
       "    <tr>\n",
       "      <th>1</th>\n",
       "      <td>76</td>\n",
       "      <td>Barcelona, Cataluña, España</td>\n",
       "      <td>barcelona</td>\n",
       "      <td>41.385064</td>\n",
       "      <td>2.173404</td>\n",
       "      <td>1611822.0</td>\n",
       "    </tr>\n",
       "    <tr>\n",
       "      <th>2</th>\n",
       "      <td>81</td>\n",
       "      <td>Basel, Basel-Stadt, Schweiz</td>\n",
       "      <td>basel</td>\n",
       "      <td>47.593437</td>\n",
       "      <td>7.619812</td>\n",
       "      <td>NaN</td>\n",
       "    </tr>\n",
       "    <tr>\n",
       "      <th>3</th>\n",
       "      <td>259</td>\n",
       "      <td>Erlangen, Bayern, Deutschland</td>\n",
       "      <td>erlangen</td>\n",
       "      <td>49.589674</td>\n",
       "      <td>11.011961</td>\n",
       "      <td>105412.0</td>\n",
       "    </tr>\n",
       "    <tr>\n",
       "      <th>4</th>\n",
       "      <td>11979</td>\n",
       "      <td>Balș, Olt, România</td>\n",
       "      <td>balș</td>\n",
       "      <td>44.353354</td>\n",
       "      <td>24.095672</td>\n",
       "      <td>NaN</td>\n",
       "    </tr>\n",
       "  </tbody>\n",
       "</table>\n",
       "</div>"
      ],
      "text/plain": [
       "      id                     local_name unique_name   latitude  longitude  \\\n",
       "0   5159          Padua, Veneto, Italia       padua  45.406435  11.876761   \n",
       "1     76    Barcelona, Cataluña, España   barcelona  41.385064   2.173404   \n",
       "2     81    Basel, Basel-Stadt, Schweiz       basel  47.593437   7.619812   \n",
       "3    259  Erlangen, Bayern, Deutschland    erlangen  49.589674  11.011961   \n",
       "4  11979             Balș, Olt, România        balș  44.353354  24.095672   \n",
       "\n",
       "   population  \n",
       "0    209678.0  \n",
       "1   1611822.0  \n",
       "2         NaN  \n",
       "3    105412.0  \n",
       "4         NaN  "
      ]
     },
     "metadata": {},
     "output_type": "display_data"
    },
    {
     "data": {
      "text/html": [
       "<div>\n",
       "<style scoped>\n",
       "    .dataframe tbody tr th:only-of-type {\n",
       "        vertical-align: middle;\n",
       "    }\n",
       "\n",
       "    .dataframe tbody tr th {\n",
       "        vertical-align: top;\n",
       "    }\n",
       "\n",
       "    .dataframe thead th {\n",
       "        text-align: right;\n",
       "    }\n",
       "</style>\n",
       "<table border=\"1\" class=\"dataframe\">\n",
       "  <thead>\n",
       "    <tr style=\"text-align: right;\">\n",
       "      <th></th>\n",
       "      <th>id</th>\n",
       "      <th>company_id</th>\n",
       "      <th>provider_id</th>\n",
       "      <th>name</th>\n",
       "      <th>fullname</th>\n",
       "      <th>has_wifi</th>\n",
       "      <th>has_plug</th>\n",
       "      <th>has_adjustable_seats</th>\n",
       "      <th>has_bicycle</th>\n",
       "      <th>transport_type</th>\n",
       "    </tr>\n",
       "  </thead>\n",
       "  <tbody>\n",
       "    <tr>\n",
       "      <th>0</th>\n",
       "      <td>9</td>\n",
       "      <td>1</td>\n",
       "      <td>NaN</td>\n",
       "      <td>ouibus</td>\n",
       "      <td>Ouibus</td>\n",
       "      <td>True</td>\n",
       "      <td>True</td>\n",
       "      <td>True</td>\n",
       "      <td>False</td>\n",
       "      <td>bus</td>\n",
       "    </tr>\n",
       "    <tr>\n",
       "      <th>1</th>\n",
       "      <td>10</td>\n",
       "      <td>2</td>\n",
       "      <td>NaN</td>\n",
       "      <td>deinbus</td>\n",
       "      <td>Deinbus.de</td>\n",
       "      <td>False</td>\n",
       "      <td>False</td>\n",
       "      <td>False</td>\n",
       "      <td>False</td>\n",
       "      <td>bus</td>\n",
       "    </tr>\n",
       "    <tr>\n",
       "      <th>2</th>\n",
       "      <td>11</td>\n",
       "      <td>3</td>\n",
       "      <td>NaN</td>\n",
       "      <td>infobus</td>\n",
       "      <td>Infobus</td>\n",
       "      <td>False</td>\n",
       "      <td>False</td>\n",
       "      <td>False</td>\n",
       "      <td>False</td>\n",
       "      <td>bus</td>\n",
       "    </tr>\n",
       "    <tr>\n",
       "      <th>3</th>\n",
       "      <td>12</td>\n",
       "      <td>4</td>\n",
       "      <td>NaN</td>\n",
       "      <td>studentAgency</td>\n",
       "      <td>Student Agency</td>\n",
       "      <td>False</td>\n",
       "      <td>False</td>\n",
       "      <td>False</td>\n",
       "      <td>False</td>\n",
       "      <td>bus</td>\n",
       "    </tr>\n",
       "    <tr>\n",
       "      <th>4</th>\n",
       "      <td>13</td>\n",
       "      <td>5</td>\n",
       "      <td>NaN</td>\n",
       "      <td>flixbus</td>\n",
       "      <td>Flixbus</td>\n",
       "      <td>True</td>\n",
       "      <td>False</td>\n",
       "      <td>False</td>\n",
       "      <td>False</td>\n",
       "      <td>bus</td>\n",
       "    </tr>\n",
       "  </tbody>\n",
       "</table>\n",
       "</div>"
      ],
      "text/plain": [
       "   id  company_id provider_id           name        fullname has_wifi  \\\n",
       "0   9           1         NaN         ouibus          Ouibus     True   \n",
       "1  10           2         NaN        deinbus      Deinbus.de    False   \n",
       "2  11           3         NaN        infobus         Infobus    False   \n",
       "3  12           4         NaN  studentAgency  Student Agency    False   \n",
       "4  13           5         NaN        flixbus         Flixbus     True   \n",
       "\n",
       "  has_plug has_adjustable_seats has_bicycle transport_type  \n",
       "0     True                 True       False            bus  \n",
       "1    False                False       False            bus  \n",
       "2    False                False       False            bus  \n",
       "3    False                False       False            bus  \n",
       "4    False                False       False            bus  "
      ]
     },
     "metadata": {},
     "output_type": "display_data"
    },
    {
     "data": {
      "text/html": [
       "<div>\n",
       "<style scoped>\n",
       "    .dataframe tbody tr th:only-of-type {\n",
       "        vertical-align: middle;\n",
       "    }\n",
       "\n",
       "    .dataframe tbody tr th {\n",
       "        vertical-align: top;\n",
       "    }\n",
       "\n",
       "    .dataframe thead th {\n",
       "        text-align: right;\n",
       "    }\n",
       "</style>\n",
       "<table border=\"1\" class=\"dataframe\">\n",
       "  <thead>\n",
       "    <tr style=\"text-align: right;\">\n",
       "      <th></th>\n",
       "      <th>id</th>\n",
       "      <th>unique_name</th>\n",
       "      <th>latitude</th>\n",
       "      <th>longitude</th>\n",
       "    </tr>\n",
       "  </thead>\n",
       "  <tbody>\n",
       "    <tr>\n",
       "      <th>0</th>\n",
       "      <td>1</td>\n",
       "      <td>Aalen (Stuttgarter Straße)</td>\n",
       "      <td>48.835296</td>\n",
       "      <td>10.092956</td>\n",
       "    </tr>\n",
       "    <tr>\n",
       "      <th>1</th>\n",
       "      <td>2</td>\n",
       "      <td>Aéroport Bordeaux-Mérignac</td>\n",
       "      <td>44.830226</td>\n",
       "      <td>-0.700883</td>\n",
       "    </tr>\n",
       "    <tr>\n",
       "      <th>2</th>\n",
       "      <td>3</td>\n",
       "      <td>Aéroport CDG</td>\n",
       "      <td>49.009900</td>\n",
       "      <td>2.559310</td>\n",
       "    </tr>\n",
       "    <tr>\n",
       "      <th>3</th>\n",
       "      <td>4</td>\n",
       "      <td>Aéroport de Berlin-Schönefeld</td>\n",
       "      <td>52.389446</td>\n",
       "      <td>13.520345</td>\n",
       "    </tr>\n",
       "    <tr>\n",
       "      <th>4</th>\n",
       "      <td>5</td>\n",
       "      <td>Aéroport de Dresden</td>\n",
       "      <td>51.123604</td>\n",
       "      <td>13.764737</td>\n",
       "    </tr>\n",
       "  </tbody>\n",
       "</table>\n",
       "</div>"
      ],
      "text/plain": [
       "   id                     unique_name   latitude  longitude\n",
       "0   1      Aalen (Stuttgarter Straße)  48.835296  10.092956\n",
       "1   2      Aéroport Bordeaux-Mérignac  44.830226  -0.700883\n",
       "2   3                   Aéroport CDG   49.009900   2.559310\n",
       "3   4  Aéroport de Berlin-Schönefeld   52.389446  13.520345\n",
       "4   5             Aéroport de Dresden  51.123604  13.764737"
      ]
     },
     "metadata": {},
     "output_type": "display_data"
    },
    {
     "data": {
      "text/html": [
       "<div>\n",
       "<style scoped>\n",
       "    .dataframe tbody tr th:only-of-type {\n",
       "        vertical-align: middle;\n",
       "    }\n",
       "\n",
       "    .dataframe tbody tr th {\n",
       "        vertical-align: top;\n",
       "    }\n",
       "\n",
       "    .dataframe thead th {\n",
       "        text-align: right;\n",
       "    }\n",
       "</style>\n",
       "<table border=\"1\" class=\"dataframe\">\n",
       "  <thead>\n",
       "    <tr style=\"text-align: right;\">\n",
       "      <th></th>\n",
       "      <th>id</th>\n",
       "      <th>company</th>\n",
       "      <th>o_station</th>\n",
       "      <th>d_station</th>\n",
       "      <th>departure_ts</th>\n",
       "      <th>arrival_ts</th>\n",
       "      <th>price_in_cents</th>\n",
       "      <th>search_ts</th>\n",
       "      <th>middle_stations</th>\n",
       "      <th>other_companies</th>\n",
       "      <th>o_city</th>\n",
       "      <th>d_city</th>\n",
       "    </tr>\n",
       "  </thead>\n",
       "  <tbody>\n",
       "    <tr>\n",
       "      <th>0</th>\n",
       "      <td>6795025</td>\n",
       "      <td>8385</td>\n",
       "      <td>NaN</td>\n",
       "      <td>NaN</td>\n",
       "      <td>2017-10-13 14:00:00+00</td>\n",
       "      <td>2017-10-13 20:10:00+00</td>\n",
       "      <td>4550</td>\n",
       "      <td>2017-10-01 00:13:31.327+00</td>\n",
       "      <td>NaN</td>\n",
       "      <td>NaN</td>\n",
       "      <td>611</td>\n",
       "      <td>542</td>\n",
       "    </tr>\n",
       "    <tr>\n",
       "      <th>1</th>\n",
       "      <td>6795026</td>\n",
       "      <td>9</td>\n",
       "      <td>63.0</td>\n",
       "      <td>1044.0</td>\n",
       "      <td>2017-10-13 13:05:00+00</td>\n",
       "      <td>2017-10-14 06:55:00+00</td>\n",
       "      <td>1450</td>\n",
       "      <td>2017-10-01 00:13:35.773+00</td>\n",
       "      <td>{149,418}</td>\n",
       "      <td>{13}</td>\n",
       "      <td>611</td>\n",
       "      <td>542</td>\n",
       "    </tr>\n",
       "    <tr>\n",
       "      <th>2</th>\n",
       "      <td>6795027</td>\n",
       "      <td>8377</td>\n",
       "      <td>5905.0</td>\n",
       "      <td>6495.0</td>\n",
       "      <td>2017-10-13 13:27:00+00</td>\n",
       "      <td>2017-10-14 21:24:00+00</td>\n",
       "      <td>7400</td>\n",
       "      <td>2017-10-01 00:13:40.212+00</td>\n",
       "      <td>{798,798,6794,6246}</td>\n",
       "      <td>{8377,8376}</td>\n",
       "      <td>611</td>\n",
       "      <td>542</td>\n",
       "    </tr>\n",
       "    <tr>\n",
       "      <th>3</th>\n",
       "      <td>6795028</td>\n",
       "      <td>8377</td>\n",
       "      <td>5905.0</td>\n",
       "      <td>6495.0</td>\n",
       "      <td>2017-10-13 13:27:00+00</td>\n",
       "      <td>2017-10-14 11:02:00+00</td>\n",
       "      <td>13500</td>\n",
       "      <td>2017-10-01 00:13:40.213+00</td>\n",
       "      <td>{798,798,6794,6246}</td>\n",
       "      <td>{8377,8376}</td>\n",
       "      <td>611</td>\n",
       "      <td>542</td>\n",
       "    </tr>\n",
       "    <tr>\n",
       "      <th>4</th>\n",
       "      <td>6795029</td>\n",
       "      <td>8381</td>\n",
       "      <td>5905.0</td>\n",
       "      <td>6495.0</td>\n",
       "      <td>2017-10-13 21:46:00+00</td>\n",
       "      <td>2017-10-14 19:32:00+00</td>\n",
       "      <td>7710</td>\n",
       "      <td>2017-10-01 00:13:40.213+00</td>\n",
       "      <td>{5983,5983}</td>\n",
       "      <td>{8380}</td>\n",
       "      <td>611</td>\n",
       "      <td>542</td>\n",
       "    </tr>\n",
       "  </tbody>\n",
       "</table>\n",
       "</div>"
      ],
      "text/plain": [
       "        id  company  o_station  d_station            departure_ts  \\\n",
       "0  6795025     8385        NaN        NaN  2017-10-13 14:00:00+00   \n",
       "1  6795026        9       63.0     1044.0  2017-10-13 13:05:00+00   \n",
       "2  6795027     8377     5905.0     6495.0  2017-10-13 13:27:00+00   \n",
       "3  6795028     8377     5905.0     6495.0  2017-10-13 13:27:00+00   \n",
       "4  6795029     8381     5905.0     6495.0  2017-10-13 21:46:00+00   \n",
       "\n",
       "               arrival_ts  price_in_cents                   search_ts  \\\n",
       "0  2017-10-13 20:10:00+00            4550  2017-10-01 00:13:31.327+00   \n",
       "1  2017-10-14 06:55:00+00            1450  2017-10-01 00:13:35.773+00   \n",
       "2  2017-10-14 21:24:00+00            7400  2017-10-01 00:13:40.212+00   \n",
       "3  2017-10-14 11:02:00+00           13500  2017-10-01 00:13:40.213+00   \n",
       "4  2017-10-14 19:32:00+00            7710  2017-10-01 00:13:40.213+00   \n",
       "\n",
       "       middle_stations other_companies  o_city  d_city  \n",
       "0                  NaN             NaN     611     542  \n",
       "1            {149,418}            {13}     611     542  \n",
       "2  {798,798,6794,6246}     {8377,8376}     611     542  \n",
       "3  {798,798,6794,6246}     {8377,8376}     611     542  \n",
       "4          {5983,5983}          {8380}     611     542  "
      ]
     },
     "metadata": {},
     "output_type": "display_data"
    }
   ],
   "source": [
    "display(cities.head())\n",
    "display(providers.head())\n",
    "display(stations.head())\n",
    "display(ticket_data.head())"
   ]
  },
  {
   "cell_type": "markdown",
   "metadata": {},
   "source": [
    "### First task : information extraction\n",
    "#### 1. Price statistics for a specific path"
   ]
  },
  {
   "cell_type": "code",
   "execution_count": 340,
   "metadata": {},
   "outputs": [
    {
     "name": "stdout",
     "output_type": "stream",
     "text": [
      "For the path {'o_station': 5905.0, 'd_station': 6495.0}\n",
      " -> The mean price is 9536.666666666666\n"
     ]
    }
   ],
   "source": [
    "#Functions to calculate min, max, average price for a specific path\n",
    "def path_price_statistic(path,statistic_type='count'):\n",
    "    \"\"\"\n",
    "    Returns interesting statistics about the price regarding a specific path\n",
    "\n",
    "    Parameters\n",
    "    ----------\n",
    "    path : dict {'o_station':float,'d_station':float}\n",
    "    statistic_type : string, accepted values are 'count','mean','std','min','max'\n",
    "\n",
    "    Returns\n",
    "    -------\n",
    "    price statistic (min,max,mean...ect) : float\n",
    "\n",
    "    Examples\n",
    "    --------\n",
    "    >>> path={'o_station':5905.0,'d_station':6495.0}  # Path/trajet\n",
    "    >>> statistic_type = 'mean'  # Berlin\n",
    "    >>> path_price_statistic(path,statistic_type)\n",
    "    9536.6\n",
    "    \"\"\"\n",
    "    o_station=path['o_station']\n",
    "    d_station=path['d_station']\n",
    "    path_data = ticket_data[(ticket_data['o_station']==o_station) & (ticket_data['d_station']==d_station)]\n",
    "    price_statistic = path_data['price_in_cents'].describe().get(statistic_type,'invalid_statistic')\n",
    "    return price_statistic\n",
    "    \n",
    "path={'o_station':5905.0,'d_station':6495.0}\n",
    "mean_p=path_price_statistic(path,'mean')\n",
    "print(f'For the path {path}\\n -> The mean price is {mean_p}')"
   ]
  },
  {
   "cell_type": "markdown",
   "metadata": {},
   "source": [
    "#### 2. Duration information for a specific path"
   ]
  },
  {
   "cell_type": "code",
   "execution_count": 341,
   "metadata": {},
   "outputs": [
    {
     "name": "stdout",
     "output_type": "stream",
     "text": [
      "For the path {'o_station': 5905.0, 'd_station': 6495.0}\n",
      " -> The max duration is 115020.0 in seconds\n",
      " -> Which equals 1 day, 7:57:00\n"
     ]
    }
   ],
   "source": [
    "import datetime\n",
    "import warnings\n",
    "warnings.filterwarnings('ignore')\n",
    "\n",
    "def path_duration_statistic(path,statistic_type='max'):\n",
    "    \"\"\"\n",
    "    Returns statistics about the duration of a specific path\n",
    "\n",
    "    Parameters\n",
    "    ----------\n",
    "    path : dict {'o_station':float,'d_station':float}\n",
    "    statistic_type : string, accepted values are 'count','mean','std','min','max'\n",
    "\n",
    "    Returns\n",
    "    -------\n",
    "    statistic about the duration IN SECONDS!!  (min,max,mean...ect) : float\n",
    "\n",
    "    Example\n",
    "    --------\n",
    "    >>> path={'o_station':5905.0,'d_station':6495.0}  # Path/trajet\n",
    "    >>> statistic_type = 'max'  # Berlin\n",
    "    >>> path_duration_statistic(path,statistic_type)\n",
    "    115020.0\n",
    "    \"\"\"\n",
    "    o_station=path['o_station']\n",
    "    d_station=path['d_station']\n",
    "    path_data = ticket_data[(ticket_data['o_station']==o_station) & (ticket_data['d_station']==d_station)]\n",
    "    departure_time=path_data['departure_ts'].astype('datetime64[ns]')\n",
    "    arrival_time=path_data['arrival_ts'].astype('datetime64[ns]')\n",
    "    path_data[\"duration\"]=(arrival_time-departure_time).dt.total_seconds()\n",
    "    duration_statistic = path_data['duration'].describe().get(statistic_type,'invalid_statistic')\n",
    "    return duration_statistic\n",
    "\n",
    "def time_string(seconds=0):\n",
    "    \"\"\"\n",
    "    Returns statistics about the duration of a specific path\n",
    "\n",
    "    Parameters\n",
    "    ----------\n",
    "    seconds : number of seconds (float)\n",
    "\n",
    "    Returns\n",
    "    -------\n",
    "    a string expressing the duration\n",
    "\n",
    "    Example\n",
    "    --------\n",
    "    >>> time_string(115020.0)\n",
    "    >>> 1 day, 7:57:00\n",
    "    \"\"\"\n",
    "    return str(datetime.timedelta(seconds=seconds))\n",
    "\n",
    "duration_statistic=path_duration_statistic(path,'max')\n",
    "print(f'For the path {path}\\n -> The max duration is {duration_statistic} in seconds\\n -> Which equals {time_string(duration_statistic)}')"
   ]
  },
  {
   "cell_type": "markdown",
   "metadata": {},
   "source": [
    "### Second task :\n",
    "#### Diffrences of average prices and duration for diffrent transport types and path lengths\n"
   ]
  },
  {
   "cell_type": "markdown",
   "metadata": {},
   "source": [
    "Here I defined a distance function that I need to calculate distance between coordinates, Note that in a production setting, i would prefer to use a more robust package such as geopy, i didn't wanna install externals packages for this test as it's not the point, but I felt i should point this out."
   ]
  },
  {
   "cell_type": "code",
   "execution_count": 342,
   "metadata": {},
   "outputs": [],
   "source": [
    "import math\n",
    "\n",
    "\n",
    "def distance(origin, destination):\n",
    "    \"\"\"\n",
    "    Calculate the Haversine distance.\n",
    "\n",
    "    Parameters\n",
    "    ----------\n",
    "    origin : tuple of float\n",
    "        (lat, long)\n",
    "    destination : tuple of float\n",
    "        (lat, long)\n",
    "\n",
    "    Returns\n",
    "    -------\n",
    "    distance_in_km : float\n",
    "\n",
    "    Examples\n",
    "    --------\n",
    "    >>> origin = (48.1372, 11.5756)  # Munich\n",
    "    >>> destination = (52.5186, 13.4083)  # Berlin\n",
    "    >>> round(distance(origin, destination), 1)\n",
    "    504.2\n",
    "    \"\"\"\n",
    "    lat1, lon1 = origin\n",
    "    lat2, lon2 = destination\n",
    "    radius = 6371  # km\n",
    "\n",
    "    dlat = math.radians(lat2 - lat1)\n",
    "    dlon = math.radians(lon2 - lon1)\n",
    "    a = (math.sin(dlat / 2) * math.sin(dlat / 2) +\n",
    "         math.cos(math.radians(lat1)) * math.cos(math.radians(lat2)) *\n",
    "         math.sin(dlon / 2) * math.sin(dlon / 2))\n",
    "    c = 2 * math.atan2(math.sqrt(a), math.sqrt(1 - a))\n",
    "    d = radius * c\n",
    "\n",
    "    return d\n"
   ]
  },
  {
   "cell_type": "markdown",
   "metadata": {},
   "source": [
    "Merging ticket_data Dataframe with providers and stations Dataframe to extract transport_type and coordinates information, then i'm creating a new column \"duration\" calculated from the diffrence between arrival and departure time"
   ]
  },
  {
   "cell_type": "code",
   "execution_count": 343,
   "metadata": {},
   "outputs": [],
   "source": [
    "ticket_station_merged = ticket_data.merge(providers.drop_duplicates(subset='company_id', keep=\"last\"),how='inner',left_on='company', right_on='company_id')\n",
    "ticket_station_merged = ticket_station_merged.merge(stations,left_on='o_station',right_on='id',how='left')\n",
    "ticket_station_merged = ticket_station_merged.merge(stations,left_on='d_station',right_on='id',how='left')\n",
    "departure_time=ticket_station_merged['departure_ts'].astype('datetime64[ns]')\n",
    "arrival_time=ticket_station_merged['arrival_ts'].astype('datetime64[ns]')\n",
    "ticket_station_merged[\"duration\"]=(arrival_time-departure_time).dt.total_seconds()"
   ]
  },
  {
   "cell_type": "markdown",
   "metadata": {},
   "source": [
    "Creation of a new column \"distance\" that uses the previously defined distance function to convert deprature and arrival coordinates to distance in Km"
   ]
  },
  {
   "cell_type": "code",
   "execution_count": 344,
   "metadata": {},
   "outputs": [],
   "source": [
    "ticket_station_merged[\"distance\"]=ticket_station_merged.apply(lambda row:distance((row['latitude_x'],row['longitude_x']),(row['latitude_y'],row['longitude_y'])),axis=1)"
   ]
  },
  {
   "cell_type": "markdown",
   "metadata": {},
   "source": [
    "We keep the important columns as stated below"
   ]
  },
  {
   "cell_type": "code",
   "execution_count": 345,
   "metadata": {},
   "outputs": [],
   "source": [
    "ticket_station_merged=ticket_station_merged[['o_station','d_station','price_in_cents','transport_type','distance','duration']]\n"
   ]
  },
  {
   "cell_type": "code",
   "execution_count": 346,
   "metadata": {},
   "outputs": [
    {
     "data": {
      "text/html": [
       "<div>\n",
       "<style scoped>\n",
       "    .dataframe tbody tr th:only-of-type {\n",
       "        vertical-align: middle;\n",
       "    }\n",
       "\n",
       "    .dataframe tbody tr th {\n",
       "        vertical-align: top;\n",
       "    }\n",
       "\n",
       "    .dataframe thead th {\n",
       "        text-align: right;\n",
       "    }\n",
       "</style>\n",
       "<table border=\"1\" class=\"dataframe\">\n",
       "  <thead>\n",
       "    <tr style=\"text-align: right;\">\n",
       "      <th></th>\n",
       "      <th>price_in_cents</th>\n",
       "      <th>distance</th>\n",
       "      <th>duration</th>\n",
       "    </tr>\n",
       "    <tr>\n",
       "      <th>transport_type</th>\n",
       "      <th></th>\n",
       "      <th></th>\n",
       "      <th></th>\n",
       "    </tr>\n",
       "  </thead>\n",
       "  <tbody>\n",
       "    <tr>\n",
       "      <th>bus</th>\n",
       "      <td>1967.190813</td>\n",
       "      <td>146.840187</td>\n",
       "      <td>40363.250883</td>\n",
       "    </tr>\n",
       "    <tr>\n",
       "      <th>carpooling</th>\n",
       "      <td>1990.000000</td>\n",
       "      <td>124.482565</td>\n",
       "      <td>51300.000000</td>\n",
       "    </tr>\n",
       "  </tbody>\n",
       "</table>\n",
       "</div>"
      ],
      "text/plain": [
       "                price_in_cents    distance      duration\n",
       "transport_type                                          \n",
       "bus                1967.190813  146.840187  40363.250883\n",
       "carpooling         1990.000000  124.482565  51300.000000"
      ]
     },
     "metadata": {},
     "output_type": "display_data"
    },
    {
     "data": {
      "text/html": [
       "<div>\n",
       "<style scoped>\n",
       "    .dataframe tbody tr th:only-of-type {\n",
       "        vertical-align: middle;\n",
       "    }\n",
       "\n",
       "    .dataframe tbody tr th {\n",
       "        vertical-align: top;\n",
       "    }\n",
       "\n",
       "    .dataframe thead th {\n",
       "        text-align: right;\n",
       "    }\n",
       "</style>\n",
       "<table border=\"1\" class=\"dataframe\">\n",
       "  <thead>\n",
       "    <tr style=\"text-align: right;\">\n",
       "      <th></th>\n",
       "      <th>price_in_cents</th>\n",
       "      <th>distance</th>\n",
       "      <th>duration</th>\n",
       "    </tr>\n",
       "    <tr>\n",
       "      <th>transport_type</th>\n",
       "      <th></th>\n",
       "      <th></th>\n",
       "      <th></th>\n",
       "    </tr>\n",
       "  </thead>\n",
       "  <tbody>\n",
       "    <tr>\n",
       "      <th>bus</th>\n",
       "      <td>3404.716348</td>\n",
       "      <td>472.119235</td>\n",
       "      <td>50692.464814</td>\n",
       "    </tr>\n",
       "    <tr>\n",
       "      <th>carpooling</th>\n",
       "      <td>4338.500000</td>\n",
       "      <td>441.500762</td>\n",
       "      <td>38175.000000</td>\n",
       "    </tr>\n",
       "    <tr>\n",
       "      <th>train</th>\n",
       "      <td>3265.555556</td>\n",
       "      <td>406.942154</td>\n",
       "      <td>45733.333333</td>\n",
       "    </tr>\n",
       "  </tbody>\n",
       "</table>\n",
       "</div>"
      ],
      "text/plain": [
       "                price_in_cents    distance      duration\n",
       "transport_type                                          \n",
       "bus                3404.716348  472.119235  50692.464814\n",
       "carpooling         4338.500000  441.500762  38175.000000\n",
       "train              3265.555556  406.942154  45733.333333"
      ]
     },
     "metadata": {},
     "output_type": "display_data"
    },
    {
     "data": {
      "text/html": [
       "<div>\n",
       "<style scoped>\n",
       "    .dataframe tbody tr th:only-of-type {\n",
       "        vertical-align: middle;\n",
       "    }\n",
       "\n",
       "    .dataframe tbody tr th {\n",
       "        vertical-align: top;\n",
       "    }\n",
       "\n",
       "    .dataframe thead th {\n",
       "        text-align: right;\n",
       "    }\n",
       "</style>\n",
       "<table border=\"1\" class=\"dataframe\">\n",
       "  <thead>\n",
       "    <tr style=\"text-align: right;\">\n",
       "      <th></th>\n",
       "      <th>price_in_cents</th>\n",
       "      <th>distance</th>\n",
       "      <th>duration</th>\n",
       "    </tr>\n",
       "    <tr>\n",
       "      <th>transport_type</th>\n",
       "      <th></th>\n",
       "      <th></th>\n",
       "      <th></th>\n",
       "    </tr>\n",
       "  </thead>\n",
       "  <tbody>\n",
       "    <tr>\n",
       "      <th>bus</th>\n",
       "      <td>6112.71028</td>\n",
       "      <td>984.67443</td>\n",
       "      <td>87907.009346</td>\n",
       "    </tr>\n",
       "  </tbody>\n",
       "</table>\n",
       "</div>"
      ],
      "text/plain": [
       "                price_in_cents   distance      duration\n",
       "transport_type                                         \n",
       "bus                 6112.71028  984.67443  87907.009346"
      ]
     },
     "metadata": {},
     "output_type": "display_data"
    },
    {
     "data": {
      "text/html": [
       "<div>\n",
       "<style scoped>\n",
       "    .dataframe tbody tr th:only-of-type {\n",
       "        vertical-align: middle;\n",
       "    }\n",
       "\n",
       "    .dataframe tbody tr th {\n",
       "        vertical-align: top;\n",
       "    }\n",
       "\n",
       "    .dataframe thead th {\n",
       "        text-align: right;\n",
       "    }\n",
       "</style>\n",
       "<table border=\"1\" class=\"dataframe\">\n",
       "  <thead>\n",
       "    <tr style=\"text-align: right;\">\n",
       "      <th></th>\n",
       "      <th>price_in_cents</th>\n",
       "      <th>distance</th>\n",
       "      <th>duration</th>\n",
       "    </tr>\n",
       "    <tr>\n",
       "      <th>transport_type</th>\n",
       "      <th></th>\n",
       "      <th></th>\n",
       "      <th></th>\n",
       "    </tr>\n",
       "  </thead>\n",
       "  <tbody>\n",
       "  </tbody>\n",
       "</table>\n",
       "</div>"
      ],
      "text/plain": [
       "Empty DataFrame\n",
       "Columns: [price_in_cents, distance, duration]\n",
       "Index: []"
      ]
     },
     "metadata": {},
     "output_type": "display_data"
    }
   ],
   "source": [
    "def price_duration_statistics(min_distance=0,max_distance=float('inf')):\n",
    "    \"\"\"\n",
    "    Returns statistics about price and duration for paths with distance belonging to the range specified in the argument\n",
    "\n",
    "    Parameters\n",
    "    ----------\n",
    "    min_distance : float\n",
    "    max_distance : float\n",
    "\n",
    "\n",
    "    Returns\n",
    "    -------\n",
    "    Dataframe with average price, distance and duration for the all transport types\n",
    "\n",
    "    \"\"\"\n",
    "    df_cond = ticket_station_merged[\n",
    "        (ticket_station_merged['distance']>=min_distance) &\n",
    "        (ticket_station_merged['distance']<=max_distance)\n",
    "    ]\n",
    "    df_cond = df_cond.groupby(['transport_type']).mean()\n",
    "    return df_cond[['price_in_cents','distance','duration']]\n",
    "\n",
    "distance_ranges = [(0,200),(201,800),(801,2000),(2000,float('inf'))]\n",
    "for distance_range in distance_ranges:\n",
    "    min_distance,max_distance=distance_range\n",
    "    display(price_duration_statistics(min_distance,max_distance).head())\n"
   ]
  },
  {
   "cell_type": "markdown",
   "metadata": {},
   "source": [
    "##### Issues with the dataset\n",
    "\n",
    "Even if we have a huge dataset, around 70k entries, there's also a huge lack of data values when it comes to providers dataframe, there are smaller and thus we can retrieve the transport type for every path.\n",
    "\n",
    "The ticket_data is linked to providers dataframe through the company variable, but the transport type is special to the provider. this is an issue when we try to find the right transport type, especially if a company has providers that offer a variety of transport types."
   ]
  },
  {
   "cell_type": "markdown",
   "metadata": {},
   "source": [
    "### Bonus task : Price Prediction using Machine Learning"
   ]
  },
  {
   "cell_type": "markdown",
   "metadata": {},
   "source": [
    "#### Data Preparation"
   ]
  },
  {
   "cell_type": "code",
   "execution_count": 347,
   "metadata": {},
   "outputs": [
    {
     "data": {
      "text/html": [
       "<div>\n",
       "<style scoped>\n",
       "    .dataframe tbody tr th:only-of-type {\n",
       "        vertical-align: middle;\n",
       "    }\n",
       "\n",
       "    .dataframe tbody tr th {\n",
       "        vertical-align: top;\n",
       "    }\n",
       "\n",
       "    .dataframe thead th {\n",
       "        text-align: right;\n",
       "    }\n",
       "</style>\n",
       "<table border=\"1\" class=\"dataframe\">\n",
       "  <thead>\n",
       "    <tr style=\"text-align: right;\">\n",
       "      <th></th>\n",
       "      <th>id</th>\n",
       "      <th>company</th>\n",
       "      <th>o_station</th>\n",
       "      <th>d_station</th>\n",
       "      <th>departure_ts</th>\n",
       "      <th>arrival_ts</th>\n",
       "      <th>price_in_cents</th>\n",
       "      <th>search_ts</th>\n",
       "      <th>middle_stations</th>\n",
       "      <th>other_companies</th>\n",
       "      <th>o_city</th>\n",
       "      <th>d_city</th>\n",
       "    </tr>\n",
       "  </thead>\n",
       "  <tbody>\n",
       "    <tr>\n",
       "      <th>0</th>\n",
       "      <td>6795025</td>\n",
       "      <td>8385</td>\n",
       "      <td>NaN</td>\n",
       "      <td>NaN</td>\n",
       "      <td>2017-10-13 14:00:00+00</td>\n",
       "      <td>2017-10-13 20:10:00+00</td>\n",
       "      <td>4550</td>\n",
       "      <td>2017-10-01 00:13:31.327+00</td>\n",
       "      <td>NaN</td>\n",
       "      <td>NaN</td>\n",
       "      <td>611</td>\n",
       "      <td>542</td>\n",
       "    </tr>\n",
       "    <tr>\n",
       "      <th>1</th>\n",
       "      <td>6795026</td>\n",
       "      <td>9</td>\n",
       "      <td>63.0</td>\n",
       "      <td>1044.0</td>\n",
       "      <td>2017-10-13 13:05:00+00</td>\n",
       "      <td>2017-10-14 06:55:00+00</td>\n",
       "      <td>1450</td>\n",
       "      <td>2017-10-01 00:13:35.773+00</td>\n",
       "      <td>{149,418}</td>\n",
       "      <td>{13}</td>\n",
       "      <td>611</td>\n",
       "      <td>542</td>\n",
       "    </tr>\n",
       "    <tr>\n",
       "      <th>2</th>\n",
       "      <td>6795027</td>\n",
       "      <td>8377</td>\n",
       "      <td>5905.0</td>\n",
       "      <td>6495.0</td>\n",
       "      <td>2017-10-13 13:27:00+00</td>\n",
       "      <td>2017-10-14 21:24:00+00</td>\n",
       "      <td>7400</td>\n",
       "      <td>2017-10-01 00:13:40.212+00</td>\n",
       "      <td>{798,798,6794,6246}</td>\n",
       "      <td>{8377,8376}</td>\n",
       "      <td>611</td>\n",
       "      <td>542</td>\n",
       "    </tr>\n",
       "    <tr>\n",
       "      <th>3</th>\n",
       "      <td>6795028</td>\n",
       "      <td>8377</td>\n",
       "      <td>5905.0</td>\n",
       "      <td>6495.0</td>\n",
       "      <td>2017-10-13 13:27:00+00</td>\n",
       "      <td>2017-10-14 11:02:00+00</td>\n",
       "      <td>13500</td>\n",
       "      <td>2017-10-01 00:13:40.213+00</td>\n",
       "      <td>{798,798,6794,6246}</td>\n",
       "      <td>{8377,8376}</td>\n",
       "      <td>611</td>\n",
       "      <td>542</td>\n",
       "    </tr>\n",
       "    <tr>\n",
       "      <th>4</th>\n",
       "      <td>6795029</td>\n",
       "      <td>8381</td>\n",
       "      <td>5905.0</td>\n",
       "      <td>6495.0</td>\n",
       "      <td>2017-10-13 21:46:00+00</td>\n",
       "      <td>2017-10-14 19:32:00+00</td>\n",
       "      <td>7710</td>\n",
       "      <td>2017-10-01 00:13:40.213+00</td>\n",
       "      <td>{5983,5983}</td>\n",
       "      <td>{8380}</td>\n",
       "      <td>611</td>\n",
       "      <td>542</td>\n",
       "    </tr>\n",
       "  </tbody>\n",
       "</table>\n",
       "</div>"
      ],
      "text/plain": [
       "        id  company  o_station  d_station            departure_ts  \\\n",
       "0  6795025     8385        NaN        NaN  2017-10-13 14:00:00+00   \n",
       "1  6795026        9       63.0     1044.0  2017-10-13 13:05:00+00   \n",
       "2  6795027     8377     5905.0     6495.0  2017-10-13 13:27:00+00   \n",
       "3  6795028     8377     5905.0     6495.0  2017-10-13 13:27:00+00   \n",
       "4  6795029     8381     5905.0     6495.0  2017-10-13 21:46:00+00   \n",
       "\n",
       "               arrival_ts  price_in_cents                   search_ts  \\\n",
       "0  2017-10-13 20:10:00+00            4550  2017-10-01 00:13:31.327+00   \n",
       "1  2017-10-14 06:55:00+00            1450  2017-10-01 00:13:35.773+00   \n",
       "2  2017-10-14 21:24:00+00            7400  2017-10-01 00:13:40.212+00   \n",
       "3  2017-10-14 11:02:00+00           13500  2017-10-01 00:13:40.213+00   \n",
       "4  2017-10-14 19:32:00+00            7710  2017-10-01 00:13:40.213+00   \n",
       "\n",
       "       middle_stations other_companies  o_city  d_city  \n",
       "0                  NaN             NaN     611     542  \n",
       "1            {149,418}            {13}     611     542  \n",
       "2  {798,798,6794,6246}     {8377,8376}     611     542  \n",
       "3  {798,798,6794,6246}     {8377,8376}     611     542  \n",
       "4          {5983,5983}          {8380}     611     542  "
      ]
     },
     "execution_count": 347,
     "metadata": {},
     "output_type": "execute_result"
    }
   ],
   "source": [
    "data=pd.read_csv(f'{DIR}/ticket_data.csv')\n",
    "data.head()"
   ]
  },
  {
   "cell_type": "markdown",
   "metadata": {},
   "source": [
    "We can see in the next cell how o_station and d_stations contain a huge amount of null values, while they represent very valuable information to represent a path"
   ]
  },
  {
   "cell_type": "code",
   "execution_count": 348,
   "metadata": {},
   "outputs": [
    {
     "name": "stdout",
     "output_type": "stream",
     "text": [
      "<class 'pandas.core.frame.DataFrame'>\n",
      "RangeIndex: 74168 entries, 0 to 74167\n",
      "Data columns (total 12 columns):\n",
      " #   Column           Non-Null Count  Dtype  \n",
      "---  ------           --------------  -----  \n",
      " 0   id               74168 non-null  int64  \n",
      " 1   company          74168 non-null  int64  \n",
      " 2   o_station        32727 non-null  float64\n",
      " 3   d_station        32727 non-null  float64\n",
      " 4   departure_ts     74168 non-null  object \n",
      " 5   arrival_ts       74168 non-null  object \n",
      " 6   price_in_cents   74168 non-null  int64  \n",
      " 7   search_ts        74168 non-null  object \n",
      " 8   middle_stations  32727 non-null  object \n",
      " 9   other_companies  32727 non-null  object \n",
      " 10  o_city           74168 non-null  int64  \n",
      " 11  d_city           74168 non-null  int64  \n",
      "dtypes: float64(2), int64(5), object(5)\n",
      "memory usage: 6.8+ MB\n"
     ]
    }
   ],
   "source": [
    "data.info()"
   ]
  },
  {
   "cell_type": "code",
   "execution_count": 349,
   "metadata": {},
   "outputs": [
    {
     "data": {
      "text/plain": [
       "id                 74168\n",
       "company               20\n",
       "o_station            438\n",
       "d_station            454\n",
       "departure_ts       12660\n",
       "arrival_ts         12740\n",
       "price_in_cents      1699\n",
       "search_ts          13266\n",
       "middle_stations     1207\n",
       "other_companies       90\n",
       "o_city               306\n",
       "d_city               332\n",
       "dtype: int64"
      ]
     },
     "execution_count": 349,
     "metadata": {},
     "output_type": "execute_result"
    }
   ],
   "source": [
    "data.nunique()"
   ]
  },
  {
   "cell_type": "markdown",
   "metadata": {},
   "source": [
    "#### Data cleaning\n",
    "Extraction of day/month/hour/minute of arrival and departure times, to take full advantage of the date string"
   ]
  },
  {
   "cell_type": "code",
   "execution_count": 350,
   "metadata": {},
   "outputs": [],
   "source": [
    "#departure\n",
    "data['departure_day'] = pd.to_datetime(data.departure_ts).dt.day\n",
    "data['departure_month'] = pd.to_datetime(data.departure_ts).dt.month\n",
    "data['departure_hour'] = pd.to_datetime(data.departure_ts).dt.hour\n",
    "data['departure_minute'] = pd.to_datetime(data.departure_ts).dt.minute\n",
    "\n",
    "#arrival\n",
    "data['arrival_day'] = pd.to_datetime(data.departure_ts).dt.day\n",
    "data['arrival_month'] = pd.to_datetime(data.departure_ts).dt.month\n",
    "data['arrival_hour'] = pd.to_datetime(data.departure_ts).dt.hour\n",
    "data['departure_minute'] = pd.to_datetime(data.departure_ts).dt.minute"
   ]
  },
  {
   "cell_type": "markdown",
   "metadata": {},
   "source": [
    "Add duration feature in minutes"
   ]
  },
  {
   "cell_type": "code",
   "execution_count": 351,
   "metadata": {},
   "outputs": [],
   "source": [
    "#Add journey duration as a feature (in minutes)\n",
    "departure_time=data['departure_ts'].astype('datetime64[ns]')\n",
    "arrival_time=data['arrival_ts'].astype('datetime64[ns]')\n",
    "data[\"duration_min\"]=(arrival_time-departure_time).dt.total_seconds()/60"
   ]
  },
  {
   "cell_type": "markdown",
   "metadata": {},
   "source": [
    "Add distance feature to the dataset"
   ]
  },
  {
   "cell_type": "code",
   "execution_count": 352,
   "metadata": {},
   "outputs": [],
   "source": [
    "#add other features such as distance\n",
    "data = data.merge(stations[['id','latitude','longitude']],left_on='o_station',right_on='id',how='left')\n",
    "data = data.merge(stations,left_on='d_station',right_on='id',how='left')\n",
    "data[\"distance\"]=data.apply(lambda row:distance((row['latitude_x'],row['longitude_x']),(row['latitude_y'],row['longitude_y'])),axis=1)\n"
   ]
  },
  {
   "cell_type": "markdown",
   "metadata": {},
   "source": [
    "Here we will drop all features we consider not useful, such as index that doesnt hold significant business value, we drop the columns that we already exploited and generated better features from (deprature_ts...etc)."
   ]
  },
  {
   "cell_type": "code",
   "execution_count": 353,
   "metadata": {},
   "outputs": [
    {
     "name": "stdout",
     "output_type": "stream",
     "text": [
      "Index(['company', 'o_station', 'd_station', 'price_in_cents',\n",
      "       'middle_stations', 'other_companies', 'o_city', 'd_city',\n",
      "       'departure_day', 'departure_month', 'departure_hour',\n",
      "       'departure_minute', 'arrival_day', 'arrival_month', 'arrival_hour',\n",
      "       'duration_min', 'distance'],\n",
      "      dtype='object')\n"
     ]
    }
   ],
   "source": [
    "data.dropna(inplace=True)\n",
    "cols_to_drop=[\"id_x\",\"departure_ts\",\"arrival_ts\",\"search_ts\",\"id_y\",\"latitude_x\",\"longitude_x\",\"id\",\"unique_name\",\"latitude_y\",\"longitude_y\"]\n",
    "data.drop(cols_to_drop,axis=1,inplace=True)\n",
    "print(data.columns)"
   ]
  },
  {
   "cell_type": "markdown",
   "metadata": {},
   "source": [
    "We convert the middle_stations and other_stations from the current type which is a list of stations in string format to the number of stops, it's worth nothing that we may use valuable information, but this may still be an acceptable approach."
   ]
  },
  {
   "cell_type": "code",
   "execution_count": 354,
   "metadata": {},
   "outputs": [],
   "source": [
    "data['middle_stations']= data['middle_stations'].apply(lambda x:len(eval(x)))\n",
    "data['other_companies']= data['other_companies'].apply(lambda x:len(eval(x)))\n"
   ]
  },
  {
   "cell_type": "markdown",
   "metadata": {},
   "source": [
    "### Building Machine Learning Models"
   ]
  },
  {
   "cell_type": "code",
   "execution_count": 355,
   "metadata": {},
   "outputs": [],
   "source": [
    "\n",
    "\n",
    "from sklearn.preprocessing import StandardScaler\n",
    "from sklearn.model_selection import train_test_split\n",
    "from sklearn.metrics import mean_squared_error as mse\n",
    "from sklearn.metrics import r2_score\n",
    "\n",
    "from math import sqrt\n",
    "\n",
    "from sklearn.model_selection import GridSearchCV\n",
    "from sklearn.model_selection import RandomizedSearchCV\n",
    "\n",
    "from sklearn.neighbors import KNeighborsRegressor\n",
    "from sklearn.linear_model import Ridge\n",
    "from sklearn.linear_model import Lasso\n",
    "from sklearn.tree import DecisionTreeRegressor\n",
    "from sklearn.ensemble import RandomForestRegressor\n",
    "from sklearn.model_selection import KFold\n",
    "\n",
    "def mean_absolute_percentage_error(y_true, y_pred): \n",
    "    y_true, y_pred = np.array(y_true), np.array(y_pred)\n",
    "    return np.mean(np.abs((y_true - y_pred) / y_true)) * 100\n",
    "\n",
    "def show_results(y,y_pred,data_type=\"Train\"):\n",
    "    print(f\"{data_type} Results for the Model:\")\n",
    "    print(50 * '-')\n",
    "    print(\"Root mean squared error: \", sqrt(mse(y, y_pred)))\n",
    "    print(\"Mean absolute % error: \", round(mean_absolute_percentage_error(y, y_pred)))\n",
    "    print(\"R-squared: \", r2_score(y, y_pred))\n",
    "    print(\"\\n\\n\")\n",
    "\n"
   ]
  },
  {
   "cell_type": "markdown",
   "metadata": {},
   "source": [
    "#### Splitting data to 70% for training, and 30% for testing the model performance."
   ]
  },
  {
   "cell_type": "code",
   "execution_count": 356,
   "metadata": {},
   "outputs": [],
   "source": [
    "y=data['price_in_cents']\n",
    "X=data.drop([\"price_in_cents\"], axis=1)\n",
    "X_train, X_test, y_train, y_test = train_test_split(X, y, test_size=0.3, random_state=42)"
   ]
  },
  {
   "cell_type": "code",
   "execution_count": 357,
   "metadata": {},
   "outputs": [
    {
     "name": "stdout",
     "output_type": "stream",
     "text": [
      "The size of training input is (22908, 16)\n",
      "The size of training output is (22908,)\n",
      "--------------------------------------------------\n",
      "The size of testing input is (9819, 16)\n",
      "The size of testing output is (9819,)\n"
     ]
    }
   ],
   "source": [
    "print(\"The size of training input is\", X_train.shape)\n",
    "print(\"The size of training output is\", y_train.shape)\n",
    "print(50 *'-')\n",
    "print(\"The size of testing input is\", X_test.shape)\n",
    "print(\"The size of testing output is\", y_test.shape)"
   ]
  },
  {
   "cell_type": "markdown",
   "metadata": {},
   "source": [
    "#### Heatmap"
   ]
  },
  {
   "cell_type": "code",
   "execution_count": 377,
   "metadata": {},
   "outputs": [
    {
     "data": {
      "image/png": "[encoded data removed]",
      "text/plain": [
       "<Figure size 1296x1296 with 2 Axes>"
      ]
     },
     "metadata": {
      "needs_background": "light"
     },
     "output_type": "display_data"
    }
   ],
   "source": [
    "plt.figure(figsize = (18,18))\n",
    "sns.heatmap(data.corr(), annot = True, cmap = \"RdYlGn\")\n",
    "\n",
    "plt.show()"
   ]
  },
  {
   "cell_type": "markdown",
   "metadata": {},
   "source": [
    "#### Ridge model"
   ]
  },
  {
   "cell_type": "code",
   "execution_count": 358,
   "metadata": {},
   "outputs": [
    {
     "data": {
      "text/plain": [
       "GridSearchCV(cv=5, estimator=Ridge(), n_jobs=-1,\n",
       "             param_grid={'alpha': [0.0001, 0.001, 0.01, 0.1, 1, 10, 100, 1000,\n",
       "                                   10000, 100000]},\n",
       "             scoring='neg_mean_absolute_error')"
      ]
     },
     "execution_count": 358,
     "metadata": {},
     "output_type": "execute_result"
    }
   ],
   "source": [
    "#Ridge\n",
    "params ={'alpha' :[0.0001, 0.001, 0.01, 0.1, 1, 10, 100, 1000, 10000, 100000]}\n",
    "ridge_regressor =GridSearchCV(Ridge(), params ,cv =5,scoring = 'neg_mean_absolute_error', n_jobs =-1)\n",
    "ridge_regressor.fit(X_train ,y_train)"
   ]
  },
  {
   "cell_type": "code",
   "execution_count": 359,
   "metadata": {},
   "outputs": [],
   "source": [
    "y_train_pred =ridge_regressor.predict(X_train) ##Predict train result\n",
    "y_test_pred =ridge_regressor.predict(X_test) ##Predict test result"
   ]
  },
  {
   "cell_type": "code",
   "execution_count": 360,
   "metadata": {},
   "outputs": [
    {
     "name": "stdout",
     "output_type": "stream",
     "text": [
      "Train Results for the Model:\n",
      "--------------------------------------------------\n",
      "Root mean squared error:  3571.268573694667\n",
      "Mean absolute % error:  53.0\n",
      "R-squared:  0.39832315098479876\n",
      "\n",
      "\n",
      "\n",
      "Test Results for the Model:\n",
      "--------------------------------------------------\n",
      "Root mean squared error:  3506.7102123279574\n",
      "Mean absolute % error:  52.0\n",
      "R-squared:  0.4115897773323438\n",
      "\n",
      "\n",
      "\n"
     ]
    }
   ],
   "source": [
    "show_results(y_train,y_train_pred,\"Train\")\n",
    "show_results(y_test,y_test_pred,\"Test\")"
   ]
  },
  {
   "cell_type": "markdown",
   "metadata": {},
   "source": [
    "#### Lasso model"
   ]
  },
  {
   "cell_type": "code",
   "execution_count": 361,
   "metadata": {},
   "outputs": [
    {
     "data": {
      "text/plain": [
       "GridSearchCV(cv=15, estimator=Lasso(), n_jobs=-1,\n",
       "             param_grid={'alpha': [0.0001, 0.001, 0.01, 0.1, 1, 10, 100, 1000,\n",
       "                                   10000, 100000]},\n",
       "             scoring='neg_mean_absolute_error')"
      ]
     },
     "execution_count": 361,
     "metadata": {},
     "output_type": "execute_result"
    }
   ],
   "source": [
    "#Lasso\n",
    "params ={'alpha' :[0.0001, 0.001, 0.01, 0.1, 1, 10, 100, 1000, 10000, 100000]}\n",
    "lasso_regressor =GridSearchCV(Lasso(), params ,cv =15,scoring = 'neg_mean_absolute_error', n_jobs =-1)\n",
    "lasso_regressor.fit(X_train ,y_train)"
   ]
  },
  {
   "cell_type": "code",
   "execution_count": 362,
   "metadata": {},
   "outputs": [],
   "source": [
    "y_train_pred =lasso_regressor.predict(X_train) ##Predict train result\n",
    "y_test_pred =lasso_regressor.predict(X_test) ##Predict test result"
   ]
  },
  {
   "cell_type": "code",
   "execution_count": 363,
   "metadata": {},
   "outputs": [
    {
     "name": "stdout",
     "output_type": "stream",
     "text": [
      "Train Results for the Model:\n",
      "--------------------------------------------------\n",
      "Root mean squared error:  3570.804479371709\n",
      "Mean absolute % error:  53.0\n",
      "R-squared:  0.3984795193231234\n",
      "\n",
      "\n",
      "\n",
      "Test Results for the Model:\n",
      "--------------------------------------------------\n",
      "Root mean squared error:  3506.4031021340384\n",
      "Mean absolute % error:  52.0\n",
      "R-squared:  0.41169283624151476\n",
      "\n",
      "\n",
      "\n"
     ]
    }
   ],
   "source": [
    "show_results(y_train,y_train_pred,\"Train\")\n",
    "show_results(y_test,y_test_pred,\"Test\")"
   ]
  },
  {
   "cell_type": "markdown",
   "metadata": {},
   "source": [
    "#### K Neighbors Regressor model"
   ]
  },
  {
   "cell_type": "code",
   "execution_count": 364,
   "metadata": {},
   "outputs": [
    {
     "data": {
      "text/plain": [
       "GridSearchCV(cv=10, estimator=KNeighborsRegressor(),\n",
       "             param_grid={'n_neighbors': [1, 2, 3, 4, 5, 6, 7, 8, 9, 10, 11, 12,\n",
       "                                         13, 14, 15, 16, 17, 18, 19, 20, 21, 22,\n",
       "                                         23, 24, 25, 26, 27, 28, 29]},\n",
       "             scoring='neg_mean_squared_error')"
      ]
     },
     "execution_count": 364,
     "metadata": {},
     "output_type": "execute_result"
    }
   ],
   "source": [
    "## K Neighbors Regressor\n",
    "k_range = list(range(1, 30))\n",
    "params = dict(n_neighbors = k_range)\n",
    "knn_regressor = GridSearchCV(KNeighborsRegressor(), params, cv =10, scoring = 'neg_mean_squared_error')\n",
    "knn_regressor.fit(X_train, y_train)"
   ]
  },
  {
   "cell_type": "code",
   "execution_count": 365,
   "metadata": {},
   "outputs": [],
   "source": [
    "y_train_pred =knn_regressor.predict(X_train) ##Predict train result\n",
    "y_test_pred =knn_regressor.predict(X_test) ##Predict test result"
   ]
  },
  {
   "cell_type": "code",
   "execution_count": 366,
   "metadata": {},
   "outputs": [
    {
     "name": "stdout",
     "output_type": "stream",
     "text": [
      "Train Results for the Model:\n",
      "--------------------------------------------------\n",
      "Root mean squared error:  850.642194652542\n",
      "Mean absolute % error:  7.0\n",
      "R-squared:  0.9658640400936955\n",
      "\n",
      "\n",
      "\n",
      "Test Results for the Model:\n",
      "--------------------------------------------------\n",
      "Root mean squared error:  1613.503784824169\n",
      "Mean absolute % error:  15.0\n",
      "R-squared:  0.8754280020366481\n",
      "\n",
      "\n",
      "\n"
     ]
    }
   ],
   "source": [
    "show_results(y_train,y_train_pred,\"Train\")\n",
    "show_results(y_test,y_test_pred,\"Test\")"
   ]
  },
  {
   "cell_type": "markdown",
   "metadata": {},
   "source": [
    "#### Decision Tree Regressor model"
   ]
  },
  {
   "cell_type": "code",
   "execution_count": 367,
   "metadata": {},
   "outputs": [
    {
     "data": {
      "text/plain": [
       "GridSearchCV(cv=10, estimator=DecisionTreeRegressor(),\n",
       "             param_grid={'max_depth': [3, 4, 5, 6, 7, 8, 9, 10, 11, 12, 13, 14,\n",
       "                                       15, 16, 17, 18, 19, 20, 21, 22, 23, 24,\n",
       "                                       25, 26, 27, 28, 29]})"
      ]
     },
     "execution_count": 367,
     "metadata": {},
     "output_type": "execute_result"
    }
   ],
   "source": [
    "# Decision Tree Regressor\n",
    "depth  =list(range(3,30))\n",
    "param_grid =dict(max_depth =depth)\n",
    "tree =GridSearchCV(DecisionTreeRegressor(),param_grid,cv =10)\n",
    "tree.fit(X_train,y_train)"
   ]
  },
  {
   "cell_type": "code",
   "execution_count": 368,
   "metadata": {},
   "outputs": [],
   "source": [
    "y_train_pred =tree.predict(X_train) ##Predict train result\n",
    "y_test_pred =tree.predict(X_test) ##Predict test resul"
   ]
  },
  {
   "cell_type": "code",
   "execution_count": 369,
   "metadata": {},
   "outputs": [
    {
     "name": "stdout",
     "output_type": "stream",
     "text": [
      "Train Results for the Model:\n",
      "--------------------------------------------------\n",
      "Root mean squared error:  270.29706432181524\n",
      "Mean absolute % error:  1.0\n",
      "R-squared:  0.9965533202322523\n",
      "\n",
      "\n",
      "\n",
      "Test Results for the Model:\n",
      "--------------------------------------------------\n",
      "Root mean squared error:  1509.3335829458488\n",
      "Mean absolute % error:  12.0\n",
      "R-squared:  0.8909938694294862\n",
      "\n",
      "\n",
      "\n"
     ]
    }
   ],
   "source": [
    "show_results(y_train,y_train_pred,\"Train\")\n",
    "show_results(y_test,y_test_pred,\"Test\")"
   ]
  },
  {
   "cell_type": "markdown",
   "metadata": {},
   "source": [
    "#### Random Forest Regressor model"
   ]
  },
  {
   "cell_type": "code",
   "execution_count": 370,
   "metadata": {},
   "outputs": [
    {
     "data": {
      "text/plain": [
       "RandomizedSearchCV(cv=5, estimator=RandomForestRegressor(), n_iter=20,\n",
       "                   n_jobs=-1,\n",
       "                   param_distributions={'min_samples_leaf': [1, 2, 4],\n",
       "                                        'min_samples_split': [2, 5, 10],\n",
       "                                        'n_estimators': [100, 200, 300, 400,\n",
       "                                                         500]},\n",
       "                   scoring='neg_mean_absolute_error')"
      ]
     },
     "execution_count": 370,
     "metadata": {},
     "output_type": "execute_result"
    }
   ],
   "source": [
    "# Random Forest Regressor\n",
    "tuned_params = {'n_estimators': [100, 200, 300, 400, 500], 'min_samples_split': [2, 5, 10], 'min_samples_leaf': [1, 2, 4]}\n",
    "random_regressor = RandomizedSearchCV(RandomForestRegressor(), tuned_params, n_iter = 20, scoring = 'neg_mean_absolute_error', cv = 5, n_jobs = -1)\n",
    "random_regressor.fit(X_train, y_train)"
   ]
  },
  {
   "cell_type": "code",
   "execution_count": 371,
   "metadata": {},
   "outputs": [],
   "source": [
    "y_train_pred = random_regressor.predict(X_train)\n",
    "y_test_pred = random_regressor.predict(X_test)"
   ]
  },
  {
   "cell_type": "code",
   "execution_count": 372,
   "metadata": {},
   "outputs": [
    {
     "name": "stdout",
     "output_type": "stream",
     "text": [
      "Train Results for the Model:\n",
      "--------------------------------------------------\n",
      "Root mean squared error:  478.2656285955991\n",
      "Mean absolute % error:  4.0\n",
      "R-squared:  0.989209126078108\n",
      "\n",
      "\n",
      "\n",
      "Test Results for the Model:\n",
      "--------------------------------------------------\n",
      "Root mean squared error:  1155.4114709813484\n",
      "Mean absolute % error:  11.0\n",
      "R-squared:  0.93612163334161\n",
      "\n",
      "\n",
      "\n"
     ]
    }
   ],
   "source": [
    "show_results(y_train,y_train_pred,\"Train\")\n",
    "show_results(y_test,y_test_pred,\"Test\")"
   ]
  },
  {
   "cell_type": "markdown",
   "metadata": {},
   "source": [
    "#### Random Forest Regressor is giving Maximum Accuracy as compare to other Regressor algorithm."
   ]
  }
 ],
 "metadata": {
  "kernelspec": {
   "display_name": "Python 3",
   "language": "python",
   "name": "python3"
  },
  "language_info": {
   "codemirror_mode": {
    "name": "ipython",
    "version": 3
   },
   "file_extension": ".py",
   "mimetype": "text/x-python",
   "name": "python",
   "nbconvert_exporter": "python",
   "pygments_lexer": "ipython3",
   "version": "3.8.3"
  }
 },
 "nbformat": 4,
 "nbformat_minor": 4
}
